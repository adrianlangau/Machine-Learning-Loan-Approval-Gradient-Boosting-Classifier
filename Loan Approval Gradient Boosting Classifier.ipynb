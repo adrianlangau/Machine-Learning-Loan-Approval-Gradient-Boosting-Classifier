{
 "cells": [
  {
   "cell_type": "code",
   "execution_count": 1,
   "id": "58d69301-549c-4f46-9810-d53e9d5e5676",
   "metadata": {},
   "outputs": [],
   "source": [
    "# Import dependencies\n",
    "from pathlib import Path\n",
    "import pandas as pd\n",
    "import numpy as np\n",
    "\n",
    "# Import preprocessing techniques\n",
    "from sklearn.preprocessing import StandardScaler\n",
    "from sklearn.model_selection import train_test_split\n",
    "from sklearn.ensemble import GradientBoostingClassifier\n",
    "\n",
    "# Import all metrics\n",
    "from sklearn.metrics import accuracy_score\n",
    "from sklearn.metrics import confusion_matrix\n",
    "from sklearn.metrics import classification_report\n",
    "\n",
    "# Data Visualization\n",
    "import pydotplus\n",
    "from IPython.display import Image"
   ]
  },
  {
   "cell_type": "code",
   "execution_count": 3,
   "id": "8001bba4-a0e7-4aaa-9eff-a96a1fe4d588",
   "metadata": {},
   "outputs": [],
   "source": [
    "# Read file into dataframe\n",
    "loan_df = pd.read_csv(Path('loans_data_encoded.csv'))"
   ]
  },
  {
   "cell_type": "code",
   "execution_count": 4,
   "id": "8331982d-4bd7-4063-a905-4473494bd6f2",
   "metadata": {},
   "outputs": [
    {
     "data": {
      "text/html": [
       "<div>\n",
       "<style scoped>\n",
       "    .dataframe tbody tr th:only-of-type {\n",
       "        vertical-align: middle;\n",
       "    }\n",
       "\n",
       "    .dataframe tbody tr th {\n",
       "        vertical-align: top;\n",
       "    }\n",
       "\n",
       "    .dataframe thead th {\n",
       "        text-align: right;\n",
       "    }\n",
       "</style>\n",
       "<table border=\"1\" class=\"dataframe\">\n",
       "  <thead>\n",
       "    <tr style=\"text-align: right;\">\n",
       "      <th></th>\n",
       "      <th>amount</th>\n",
       "      <th>term</th>\n",
       "      <th>age</th>\n",
       "      <th>bad</th>\n",
       "      <th>month_num</th>\n",
       "      <th>education_Bachelor</th>\n",
       "      <th>education_High School or Below</th>\n",
       "      <th>education_Master or Above</th>\n",
       "      <th>education_college</th>\n",
       "      <th>gender_female</th>\n",
       "      <th>gender_male</th>\n",
       "    </tr>\n",
       "  </thead>\n",
       "  <tbody>\n",
       "    <tr>\n",
       "      <th>0</th>\n",
       "      <td>1000</td>\n",
       "      <td>30</td>\n",
       "      <td>45</td>\n",
       "      <td>0</td>\n",
       "      <td>6</td>\n",
       "      <td>0</td>\n",
       "      <td>1</td>\n",
       "      <td>0</td>\n",
       "      <td>0</td>\n",
       "      <td>0</td>\n",
       "      <td>1</td>\n",
       "    </tr>\n",
       "    <tr>\n",
       "      <th>1</th>\n",
       "      <td>1000</td>\n",
       "      <td>30</td>\n",
       "      <td>50</td>\n",
       "      <td>0</td>\n",
       "      <td>7</td>\n",
       "      <td>1</td>\n",
       "      <td>0</td>\n",
       "      <td>0</td>\n",
       "      <td>0</td>\n",
       "      <td>1</td>\n",
       "      <td>0</td>\n",
       "    </tr>\n",
       "    <tr>\n",
       "      <th>2</th>\n",
       "      <td>1000</td>\n",
       "      <td>30</td>\n",
       "      <td>33</td>\n",
       "      <td>0</td>\n",
       "      <td>8</td>\n",
       "      <td>1</td>\n",
       "      <td>0</td>\n",
       "      <td>0</td>\n",
       "      <td>0</td>\n",
       "      <td>1</td>\n",
       "      <td>0</td>\n",
       "    </tr>\n",
       "    <tr>\n",
       "      <th>3</th>\n",
       "      <td>1000</td>\n",
       "      <td>15</td>\n",
       "      <td>27</td>\n",
       "      <td>0</td>\n",
       "      <td>9</td>\n",
       "      <td>0</td>\n",
       "      <td>0</td>\n",
       "      <td>0</td>\n",
       "      <td>1</td>\n",
       "      <td>0</td>\n",
       "      <td>1</td>\n",
       "    </tr>\n",
       "    <tr>\n",
       "      <th>4</th>\n",
       "      <td>1000</td>\n",
       "      <td>30</td>\n",
       "      <td>28</td>\n",
       "      <td>0</td>\n",
       "      <td>10</td>\n",
       "      <td>0</td>\n",
       "      <td>0</td>\n",
       "      <td>0</td>\n",
       "      <td>1</td>\n",
       "      <td>1</td>\n",
       "      <td>0</td>\n",
       "    </tr>\n",
       "  </tbody>\n",
       "</table>\n",
       "</div>"
      ],
      "text/plain": [
       "   amount  term  age  bad  month_num  education_Bachelor  \\\n",
       "0    1000    30   45    0          6                   0   \n",
       "1    1000    30   50    0          7                   1   \n",
       "2    1000    30   33    0          8                   1   \n",
       "3    1000    15   27    0          9                   0   \n",
       "4    1000    30   28    0         10                   0   \n",
       "\n",
       "   education_High School or Below  education_Master or Above  \\\n",
       "0                               1                          0   \n",
       "1                               0                          0   \n",
       "2                               0                          0   \n",
       "3                               0                          0   \n",
       "4                               0                          0   \n",
       "\n",
       "   education_college  gender_female  gender_male  \n",
       "0                  0              0            1  \n",
       "1                  0              1            0  \n",
       "2                  0              1            0  \n",
       "3                  1              0            1  \n",
       "4                  1              1            0  "
      ]
     },
     "execution_count": 4,
     "metadata": {},
     "output_type": "execute_result"
    }
   ],
   "source": [
    "# Display dataframe\n",
    "loan_df.head()"
   ]
  },
  {
   "cell_type": "code",
   "execution_count": 5,
   "id": "c019ce7d-9e41-4ecd-bbba-b17214afaee7",
   "metadata": {},
   "outputs": [
    {
     "data": {
      "text/plain": [
       "amount                            0.0\n",
       "term                              0.0\n",
       "age                               0.0\n",
       "bad                               0.0\n",
       "month_num                         0.0\n",
       "education_Bachelor                0.0\n",
       "education_High School or Below    0.0\n",
       "education_Master or Above         0.0\n",
       "education_college                 0.0\n",
       "gender_female                     0.0\n",
       "gender_male                       0.0\n",
       "dtype: float64"
      ]
     },
     "execution_count": 5,
     "metadata": {},
     "output_type": "execute_result"
    }
   ],
   "source": [
    "# Check for null data\n",
    "loan_df.isnull().mean()*100"
   ]
  },
  {
   "cell_type": "code",
   "execution_count": 6,
   "id": "9c2f5503-5cdc-4dc4-9cec-12c3f43a5336",
   "metadata": {},
   "outputs": [
    {
     "data": {
      "text/plain": [
       "0    300\n",
       "1    200\n",
       "Name: bad, dtype: int64"
      ]
     },
     "execution_count": 6,
     "metadata": {},
     "output_type": "execute_result"
    }
   ],
   "source": [
    "# Let's analyze the bad columns by looking at the distribution of outcomes as well as means across features\n",
    "loan_df['bad'].value_counts()"
   ]
  },
  {
   "cell_type": "code",
   "execution_count": 7,
   "id": "0e97650f-5cf9-41d4-a14c-609f688dd9fd",
   "metadata": {},
   "outputs": [],
   "source": [
    "# The distribution of the targets look relatively close."
   ]
  },
  {
   "cell_type": "code",
   "execution_count": 8,
   "id": "dfcee77f-a9ec-48eb-b103-249f6d543a8b",
   "metadata": {},
   "outputs": [
    {
     "data": {
      "text/html": [
       "<div>\n",
       "<style scoped>\n",
       "    .dataframe tbody tr th:only-of-type {\n",
       "        vertical-align: middle;\n",
       "    }\n",
       "\n",
       "    .dataframe tbody tr th {\n",
       "        vertical-align: top;\n",
       "    }\n",
       "\n",
       "    .dataframe thead th {\n",
       "        text-align: right;\n",
       "    }\n",
       "</style>\n",
       "<table border=\"1\" class=\"dataframe\">\n",
       "  <thead>\n",
       "    <tr style=\"text-align: right;\">\n",
       "      <th></th>\n",
       "      <th>amount</th>\n",
       "      <th>term</th>\n",
       "      <th>age</th>\n",
       "      <th>month_num</th>\n",
       "      <th>education_Bachelor</th>\n",
       "      <th>education_High School or Below</th>\n",
       "      <th>education_Master or Above</th>\n",
       "      <th>education_college</th>\n",
       "      <th>gender_female</th>\n",
       "      <th>gender_male</th>\n",
       "    </tr>\n",
       "    <tr>\n",
       "      <th>bad</th>\n",
       "      <th></th>\n",
       "      <th></th>\n",
       "      <th></th>\n",
       "      <th></th>\n",
       "      <th></th>\n",
       "      <th></th>\n",
       "      <th></th>\n",
       "      <th></th>\n",
       "      <th></th>\n",
       "      <th></th>\n",
       "    </tr>\n",
       "  </thead>\n",
       "  <tbody>\n",
       "    <tr>\n",
       "      <th>0</th>\n",
       "      <td>935.0</td>\n",
       "      <td>22.116667</td>\n",
       "      <td>31.210</td>\n",
       "      <td>6.480</td>\n",
       "      <td>0.136667</td>\n",
       "      <td>0.41</td>\n",
       "      <td>0.010</td>\n",
       "      <td>0.443333</td>\n",
       "      <td>0.176667</td>\n",
       "      <td>0.823333</td>\n",
       "    </tr>\n",
       "    <tr>\n",
       "      <th>1</th>\n",
       "      <td>955.5</td>\n",
       "      <td>23.885000</td>\n",
       "      <td>30.975</td>\n",
       "      <td>6.695</td>\n",
       "      <td>0.130000</td>\n",
       "      <td>0.43</td>\n",
       "      <td>0.005</td>\n",
       "      <td>0.435000</td>\n",
       "      <td>0.120000</td>\n",
       "      <td>0.880000</td>\n",
       "    </tr>\n",
       "  </tbody>\n",
       "</table>\n",
       "</div>"
      ],
      "text/plain": [
       "     amount       term     age  month_num  education_Bachelor  \\\n",
       "bad                                                             \n",
       "0     935.0  22.116667  31.210      6.480            0.136667   \n",
       "1     955.5  23.885000  30.975      6.695            0.130000   \n",
       "\n",
       "     education_High School or Below  education_Master or Above  \\\n",
       "bad                                                              \n",
       "0                              0.41                      0.010   \n",
       "1                              0.43                      0.005   \n",
       "\n",
       "     education_college  gender_female  gender_male  \n",
       "bad                                                 \n",
       "0             0.443333       0.176667     0.823333  \n",
       "1             0.435000       0.120000     0.880000  "
      ]
     },
     "execution_count": 8,
     "metadata": {},
     "output_type": "execute_result"
    }
   ],
   "source": [
    "# Means across features in terms of targets\n",
    "loan_df.groupby('bad').mean()"
   ]
  },
  {
   "cell_type": "code",
   "execution_count": 9,
   "id": "ab36f069-98a9-4a43-9dd9-b1759c880d4d",
   "metadata": {},
   "outputs": [],
   "source": [
    "# We can see that the mean of education master or above, gender_female look diverse enough between the two outcome. This is nothing conclusive but can point towards a well\n",
    "#-defined prediction model. "
   ]
  },
  {
   "cell_type": "code",
   "execution_count": 10,
   "id": "38a5417b-0e02-4bed-860b-ca74b90c9ba1",
   "metadata": {},
   "outputs": [],
   "source": [
    "# Standardize features\n",
    "scaler = StandardScaler()"
   ]
  },
  {
   "cell_type": "code",
   "execution_count": 12,
   "id": "e9d44716-1946-4046-97d2-cc3f8d09a697",
   "metadata": {},
   "outputs": [],
   "source": [
    "# Define features and target in terms of X and Y\n",
    "X = loan_df.drop(columns='bad', axis=1)\n",
    "Y = loan_df['bad']"
   ]
  },
  {
   "cell_type": "code",
   "execution_count": 13,
   "id": "a6b11eaf-e508-4b21-8f48-44fc8eeb9399",
   "metadata": {},
   "outputs": [],
   "source": [
    "# Fit X into scaler\n",
    "scaler.fit(X)\n",
    "\n",
    "# Transform X\n",
    "X = scaler.transform(X)"
   ]
  },
  {
   "cell_type": "code",
   "execution_count": 19,
   "id": "274fca7b-06e1-4c93-a481-24491682a216",
   "metadata": {},
   "outputs": [],
   "source": [
    "# Define training and testing data\n",
    "X_train, X_test, Y_train, Y_test = train_test_split(X,Y, stratify=Y, test_size=0.2, random_state=2)"
   ]
  },
  {
   "cell_type": "code",
   "execution_count": 32,
   "id": "d9fbd1fe-dc16-4c3c-9103-e12ec4d6467f",
   "metadata": {},
   "outputs": [
    {
     "name": "stdout",
     "output_type": "stream",
     "text": [
      "The learning rate is: 0.05.\n",
      "The training accuracy score is 0.6075.\n",
      "The testing accuracy score is 0.6.\n",
      "\n",
      "The learning rate is: 0.1.\n",
      "The training accuracy score is 0.6225.\n",
      "The testing accuracy score is 0.59.\n",
      "\n",
      "The learning rate is: 0.25.\n",
      "The training accuracy score is 0.7075.\n",
      "The testing accuracy score is 0.58.\n",
      "\n",
      "The learning rate is: 0.5.\n",
      "The training accuracy score is 0.74.\n",
      "The testing accuracy score is 0.55.\n",
      "\n",
      "The learning rate is: 0.75.\n",
      "The training accuracy score is 0.775.\n",
      "The testing accuracy score is 0.56.\n",
      "\n",
      "The learning rate is: 1.\n",
      "The training accuracy score is 0.775.\n",
      "The testing accuracy score is 0.56.\n",
      "\n"
     ]
    }
   ],
   "source": [
    "# Create a classifier object\n",
    "learning_rates = [0.05, 0.1, 0.25, 0.5, 0.75, 1]\n",
    "for learning_rate in learning_rates:\n",
    "    classifier = GradientBoostingClassifier(n_estimators=20,\n",
    "                                            learning_rate=learning_rate,\n",
    "                                            max_features=5,\n",
    "                                            max_depth=3,\n",
    "                                            random_state=0)\n",
    "\n",
    "    \n",
    "    # Fit the model and print the accuracy score for each learning rate with respect to training and testing data\n",
    "    classifier.fit(X_train, Y_train.ravel())\n",
    "    \n",
    "    training_prediction = classifier.predict(X_train)\n",
    "    training_accuracy_score = accuracy_score(training_prediction, Y_train)\n",
    "    testing_prediction = classifier.predict(X_test)\n",
    "    testing_accuracy_score = accuracy_score(testing_prediction, Y_test)\n",
    "    \n",
    "    # Print each result based the learning rate\n",
    "    print(f'The learning rate is: {learning_rate}.')\n",
    "    print(f'The training accuracy score is {training_accuracy_score}.')\n",
    "    print(f'The testing accuracy score is {testing_accuracy_score}.\\n')"
   ]
  },
  {
   "cell_type": "code",
   "execution_count": 35,
   "id": "53182d87-d939-4bd6-9a02-8eedad0e565e",
   "metadata": {},
   "outputs": [],
   "source": [
    "# We will be using the learning rate of 0.75 assuming it yields the best testing result"
   ]
  },
  {
   "cell_type": "code",
   "execution_count": 37,
   "id": "55c552fb-0a7a-411f-baa2-fd5ddc9ac3ef",
   "metadata": {},
   "outputs": [],
   "source": [
    "# Print result into a dataframe\n",
    "loan_prediction = pd.DataFrame({'Prediction':testing_prediction,\n",
    "                               'Actual':Y_test\n",
    "                              }).head(20)"
   ]
  },
  {
   "cell_type": "code",
   "execution_count": 38,
   "id": "098d5cb2-e6de-4722-971e-785e1bcb2856",
   "metadata": {},
   "outputs": [
    {
     "data": {
      "text/html": [
       "<div>\n",
       "<style scoped>\n",
       "    .dataframe tbody tr th:only-of-type {\n",
       "        vertical-align: middle;\n",
       "    }\n",
       "\n",
       "    .dataframe tbody tr th {\n",
       "        vertical-align: top;\n",
       "    }\n",
       "\n",
       "    .dataframe thead th {\n",
       "        text-align: right;\n",
       "    }\n",
       "</style>\n",
       "<table border=\"1\" class=\"dataframe\">\n",
       "  <thead>\n",
       "    <tr style=\"text-align: right;\">\n",
       "      <th></th>\n",
       "      <th>Prediction</th>\n",
       "      <th>Actual</th>\n",
       "    </tr>\n",
       "  </thead>\n",
       "  <tbody>\n",
       "    <tr>\n",
       "      <th>393</th>\n",
       "      <td>1</td>\n",
       "      <td>1</td>\n",
       "    </tr>\n",
       "    <tr>\n",
       "      <th>238</th>\n",
       "      <td>1</td>\n",
       "      <td>0</td>\n",
       "    </tr>\n",
       "    <tr>\n",
       "      <th>190</th>\n",
       "      <td>0</td>\n",
       "      <td>0</td>\n",
       "    </tr>\n",
       "    <tr>\n",
       "      <th>33</th>\n",
       "      <td>0</td>\n",
       "      <td>0</td>\n",
       "    </tr>\n",
       "    <tr>\n",
       "      <th>350</th>\n",
       "      <td>1</td>\n",
       "      <td>1</td>\n",
       "    </tr>\n",
       "    <tr>\n",
       "      <th>218</th>\n",
       "      <td>0</td>\n",
       "      <td>0</td>\n",
       "    </tr>\n",
       "    <tr>\n",
       "      <th>419</th>\n",
       "      <td>1</td>\n",
       "      <td>1</td>\n",
       "    </tr>\n",
       "    <tr>\n",
       "      <th>50</th>\n",
       "      <td>1</td>\n",
       "      <td>0</td>\n",
       "    </tr>\n",
       "    <tr>\n",
       "      <th>185</th>\n",
       "      <td>0</td>\n",
       "      <td>0</td>\n",
       "    </tr>\n",
       "    <tr>\n",
       "      <th>447</th>\n",
       "      <td>1</td>\n",
       "      <td>1</td>\n",
       "    </tr>\n",
       "    <tr>\n",
       "      <th>347</th>\n",
       "      <td>0</td>\n",
       "      <td>1</td>\n",
       "    </tr>\n",
       "    <tr>\n",
       "      <th>262</th>\n",
       "      <td>1</td>\n",
       "      <td>0</td>\n",
       "    </tr>\n",
       "    <tr>\n",
       "      <th>398</th>\n",
       "      <td>0</td>\n",
       "      <td>1</td>\n",
       "    </tr>\n",
       "    <tr>\n",
       "      <th>364</th>\n",
       "      <td>1</td>\n",
       "      <td>1</td>\n",
       "    </tr>\n",
       "    <tr>\n",
       "      <th>424</th>\n",
       "      <td>0</td>\n",
       "      <td>1</td>\n",
       "    </tr>\n",
       "    <tr>\n",
       "      <th>26</th>\n",
       "      <td>1</td>\n",
       "      <td>0</td>\n",
       "    </tr>\n",
       "    <tr>\n",
       "      <th>34</th>\n",
       "      <td>0</td>\n",
       "      <td>0</td>\n",
       "    </tr>\n",
       "    <tr>\n",
       "      <th>260</th>\n",
       "      <td>1</td>\n",
       "      <td>0</td>\n",
       "    </tr>\n",
       "    <tr>\n",
       "      <th>462</th>\n",
       "      <td>1</td>\n",
       "      <td>1</td>\n",
       "    </tr>\n",
       "    <tr>\n",
       "      <th>472</th>\n",
       "      <td>1</td>\n",
       "      <td>1</td>\n",
       "    </tr>\n",
       "  </tbody>\n",
       "</table>\n",
       "</div>"
      ],
      "text/plain": [
       "     Prediction  Actual\n",
       "393           1       1\n",
       "238           1       0\n",
       "190           0       0\n",
       "33            0       0\n",
       "350           1       1\n",
       "218           0       0\n",
       "419           1       1\n",
       "50            1       0\n",
       "185           0       0\n",
       "447           1       1\n",
       "347           0       1\n",
       "262           1       0\n",
       "398           0       1\n",
       "364           1       1\n",
       "424           0       1\n",
       "26            1       0\n",
       "34            0       0\n",
       "260           1       0\n",
       "462           1       1\n",
       "472           1       1"
      ]
     },
     "execution_count": 38,
     "metadata": {},
     "output_type": "execute_result"
    }
   ],
   "source": [
    "loan_prediction"
   ]
  },
  {
   "cell_type": "code",
   "execution_count": 40,
   "id": "0ea46bb5-4852-450a-99fb-13bb5d6a33f4",
   "metadata": {},
   "outputs": [
    {
     "name": "stdout",
     "output_type": "stream",
     "text": [
      "[[40 24]\n",
      " [20 16]]\n"
     ]
    }
   ],
   "source": [
    "# Use the confusion matrix\n",
    "print(confusion_matrix(testing_prediction, Y_test))"
   ]
  },
  {
   "cell_type": "code",
   "execution_count": 41,
   "id": "be769e7a-323b-4f90-b87a-9a1bcea16690",
   "metadata": {},
   "outputs": [
    {
     "name": "stdout",
     "output_type": "stream",
     "text": [
      "              precision    recall  f1-score   support\n",
      "\n",
      "           0       0.67      0.62      0.65        64\n",
      "           1       0.40      0.44      0.42        36\n",
      "\n",
      "    accuracy                           0.56       100\n",
      "   macro avg       0.53      0.53      0.53       100\n",
      "weighted avg       0.57      0.56      0.56       100\n",
      "\n"
     ]
    }
   ],
   "source": [
    "# Use the classification report\n",
    "print(classification_report(testing_prediction, Y_test))"
   ]
  },
  {
   "cell_type": "code",
   "execution_count": null,
   "id": "da1945f3-b489-4c70-a024-31190d446020",
   "metadata": {},
   "outputs": [],
   "source": []
  }
 ],
 "metadata": {
  "kernelspec": {
   "display_name": "Python 3 (ipykernel)",
   "language": "python",
   "name": "python3"
  },
  "language_info": {
   "codemirror_mode": {
    "name": "ipython",
    "version": 3
   },
   "file_extension": ".py",
   "mimetype": "text/x-python",
   "name": "python",
   "nbconvert_exporter": "python",
   "pygments_lexer": "ipython3",
   "version": "3.7.13"
  }
 },
 "nbformat": 4,
 "nbformat_minor": 5
}
